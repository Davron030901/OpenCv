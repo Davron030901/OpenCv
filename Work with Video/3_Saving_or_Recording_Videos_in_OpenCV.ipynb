{
  "nbformat": 4,
  "nbformat_minor": 0,
  "metadata": {
    "kernelspec": {
      "display_name": "Python 3",
      "language": "python",
      "name": "python3"
    },
    "language_info": {
      "codemirror_mode": {
        "name": "ipython",
        "version": 3
      },
      "file_extension": ".py",
      "mimetype": "text/x-python",
      "name": "python",
      "nbconvert_exporter": "python",
      "pygments_lexer": "ipython3",
      "version": "3.8.3"
    },
    "colab": {
      "provenance": []
    }
  },
  "cells": [
    {
      "cell_type": "markdown",
      "metadata": {
        "id": "tQYiuaxOYuzc"
      },
      "source": [
        "# **Saving or Recording Videos in OpenCV**\n",
        "\n",
        "**In this lesson we'll learn:**\n",
        "1. Save a video using cv2.VideoWriter()"
      ]
    },
    {
      "cell_type": "markdown",
      "metadata": {
        "id": "utrBJmCNYuze"
      },
      "source": [
        "When using the **VideoWriter** object. We need to specify:\n",
        "1. the output file name and\n",
        "2. the FourCC code\n",
        "3. the number of frames per second (fps)\n",
        "4. the frame size\n",
        "5. the isColor flag (if True, the encoder expect color frame, otherwise it works with grayscale frame)\n",
        "\n",
        "**FourCC** is a 4-byte code used to specify the video codec.\n",
        "\n",
        "The list of available codes can be found in fourcc.org. It is platform dependent. The following codecs should work fine for most.\n",
        "\n",
        "- In Fedora: DIVX, XVID, MJPG, X264, WMV1, WMV2. (XVID is more preferable. MJPG results in high size video. X264 gives very small size video)\n",
        "- In Windows: DIVX (More to be tested and added)\n",
        "- In OSX: MJPG (.mp4), DIVX (.avi), X264 (.mkv).\n",
        "\n",
        "FourCC code is passed as `cv.VideoWriter_fourcc('M','J','P','G')or cv.VideoWriter_fourcc(*'MJPG')` for MJPG."
      ]
    },
    {
      "cell_type": "code",
      "source": [
        "!wget https://raw.githubusercontent.com/Davron030901/OpenCv/main/video/drummer.avi"
      ],
      "metadata": {
        "colab": {
          "base_uri": "https://localhost:8080/"
        },
        "id": "XC4ma8G5DBhc",
        "outputId": "97ceda90-ae8d-43d2-a5a0-f67880c48bfb"
      },
      "execution_count": 5,
      "outputs": [
        {
          "output_type": "stream",
          "name": "stdout",
          "text": [
            "--2025-01-27 18:37:51--  https://raw.githubusercontent.com/Davron030901/OpenCv/main/video/drummer.avi\n",
            "Resolving raw.githubusercontent.com (raw.githubusercontent.com)... 185.199.108.133, 185.199.109.133, 185.199.110.133, ...\n",
            "Connecting to raw.githubusercontent.com (raw.githubusercontent.com)|185.199.108.133|:443... connected.\n",
            "HTTP request sent, awaiting response... 200 OK\n",
            "Length: 14326946 (14M) [application/octet-stream]\n",
            "Saving to: ‘drummer.avi’\n",
            "\n",
            "drummer.avi         100%[===================>]  13.66M  --.-KB/s    in 0.1s    \n",
            "\n",
            "2025-01-27 18:37:51 (122 MB/s) - ‘drummer.avi’ saved [14326946/14326946]\n",
            "\n"
          ]
        }
      ]
    },
    {
      "cell_type": "code",
      "metadata": {
        "id": "sP5oIeZrYuzf"
      },
      "source": [
        "import cv2\n",
        "\n",
        "# Load video clip\n",
        "cap = cv2.VideoCapture('drummer.avi')\n",
        "\n",
        "# Get the height and width of the frame (required to be an interger)\n",
        "w = int(cap.get(3))\n",
        "h = int(cap.get(4))\n",
        "\n",
        "# Define the codec and create VideoWriter object. The output is stored in '*.avi' file.\n",
        "out = cv2.VideoWriter('drummer.avi', cv2.VideoWriter_fourcc('M','J','P','G'), 30, (w, h), False)\n",
        "\n",
        "while(1):\n",
        "\n",
        "    ret, frame = cap.read()\n",
        "\n",
        "    if ret == True:\n",
        "        gray = cv2.cvtColor(frame, cv2.COLOR_BGR2GRAY)\n",
        "        out.write(gray)\n",
        "    else:\n",
        "        break\n",
        "        print(\"Converted Video to Grayscale..\")\n",
        "\n",
        "cap.release()\n",
        "out.release()\n",
        "cv2.destroyAllWindows()"
      ],
      "execution_count": 6,
      "outputs": []
    }
  ]
}