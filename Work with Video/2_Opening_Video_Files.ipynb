{
  "nbformat": 4,
  "nbformat_minor": 0,
  "metadata": {
    "kernelspec": {
      "display_name": "Python 3",
      "language": "python",
      "name": "python3"
    },
    "language_info": {
      "codemirror_mode": {
        "name": "ipython",
        "version": 3
      },
      "file_extension": ".py",
      "mimetype": "text/x-python",
      "name": "python",
      "nbconvert_exporter": "python",
      "pygments_lexer": "ipython3",
      "version": "3.8.3"
    },
    "colab": {
      "provenance": []
    }
  },
  "cells": [
    {
      "cell_type": "markdown",
      "metadata": {
        "id": "OTAHh6hVYt4A"
      },
      "source": [
        "\n",
        "# **Openning Videos in OpenCV**\n",
        "\n",
        "**In this lesson we'll learn:**\n",
        "1. Open a video using cv2.VideoCapture()\n",
        "\n",
        "**NOTE:**\n",
        "\n",
        "AVI video formats are universally supported by all versions of OpenCV so if you're prioritizing cross platform compatibility use .AVI files.\n",
        "\n",
        "**Other commonly suppported Video Codecs**\n",
        "1. MPEG4 or MP4\n",
        "2. FLV\n",
        "\n",
        "The full list of codecs you may use on a system depends on just what one you have installed."
      ]
    },
    {
      "cell_type": "code",
      "source": [
        "!wget https://raw.githubusercontent.com/Davron030901/OpenCv/main/video/drummer.avi"
      ],
      "metadata": {
        "colab": {
          "base_uri": "https://localhost:8080/"
        },
        "id": "2V9Jp-Zxywqw",
        "outputId": "47da640b-8130-450d-f15b-df58dcca725c"
      },
      "execution_count": 1,
      "outputs": [
        {
          "output_type": "stream",
          "name": "stdout",
          "text": [
            "--2025-01-25 00:09:49--  https://raw.githubusercontent.com/Davron030901/OpenCv/main/video/drummer.avi\n",
            "Resolving raw.githubusercontent.com (raw.githubusercontent.com)... 185.199.110.133, 185.199.111.133, 185.199.108.133, ...\n",
            "Connecting to raw.githubusercontent.com (raw.githubusercontent.com)|185.199.110.133|:443... connected.\n",
            "HTTP request sent, awaiting response... 200 OK\n",
            "Length: 14326946 (14M) [application/octet-stream]\n",
            "Saving to: ‘drummer.avi’\n",
            "\n",
            "drummer.avi         100%[===================>]  13.66M  26.0MB/s    in 0.5s    \n",
            "\n",
            "2025-01-25 00:09:53 (26.0 MB/s) - ‘drummer.avi’ saved [14326946/14326946]\n",
            "\n"
          ]
        }
      ]
    },
    {
      "cell_type": "code",
      "source": [
        "# from google.colab.patches import cv2_imshow\n",
        "\n",
        "# import cv2\n",
        "\n",
        "# cap = cv2.VideoCapture('drummer.avi')\n",
        "\n",
        "# while cap.isOpened():\n",
        "\n",
        "#     ret, frame = cap.read()\n",
        "\n",
        "#     # if frame is read correctly ret is True\n",
        "#     if not ret:\n",
        "#         print(\"Stream stopped.\")\n",
        "#         break\n",
        "#     # cv2.imshow('Video', frame)\n",
        "\n",
        "#     cv2_imshow(frame)\n",
        "\n",
        "#     if cv2.waitKey(1) == ord('q'):\n",
        "#         break\n",
        "\n",
        "\n",
        "# cap.release()\n",
        "# cv2.destroyAllWindows()"
      ],
      "metadata": {
        "id": "B38CT2APzEsz"
      },
      "execution_count": 8,
      "outputs": []
    },
    {
      "cell_type": "markdown",
      "metadata": {
        "id": "Q2XwyU0DYt4F"
      },
      "source": [
        "### Check Video Streams before processing"
      ]
    },
    {
      "cell_type": "code",
      "metadata": {
        "id": "kZmmaGIiYt4F"
      },
      "source": [
        "# import cv2\n",
        "# from google.colab.patches import cv2_imshow\n",
        "\n",
        "\n",
        "# cap = cv2.VideoCapture('drummer.avi')\n",
        "\n",
        "# if not cap.isOpened():\n",
        "#     print(\"Cannot open camera\")\n",
        "#     exit()\n",
        "\n",
        "# while cap.isOpened():\n",
        "\n",
        "#     ret, frame = cap.read()\n",
        "\n",
        "#     # if frame is read correctly ret is True\n",
        "#     if not ret:\n",
        "#         print(\"Stream stopped.\")\n",
        "#         break\n",
        "\n",
        "#     # cv2.imshow('Video', frame)\n",
        "#     cv2_imshow(frame)\n",
        "\n",
        "#     if cv2.waitKey(1) == ord('q'):\n",
        "#         break\n",
        "\n",
        "\n",
        "# cap.release()\n",
        "# cv2.destroyAllWindows()"
      ],
      "execution_count": 9,
      "outputs": []
    },
    {
      "cell_type": "markdown",
      "metadata": {
        "id": "VZRFV9CjYt4G"
      },
      "source": [
        "## ```cap.get(id)```\n",
        "Is a method where id is a number from 0 to 18. Each number denotes a property of the video (if it is applicable to that video)"
      ]
    },
    {
      "cell_type": "code",
      "metadata": {
        "id": "zyi9DZv5Yt4G",
        "outputId": "8cda967f-0008-4add-e5a3-f7234ccde48f",
        "colab": {
          "base_uri": "https://localhost:8080/"
        }
      },
      "source": [
        "import cv2\n",
        "\n",
        "cap = cv2.VideoCapture('drummer.avi')\n",
        "\n",
        "for i in range(0,18):\n",
        "    print(cap.get(i))"
      ],
      "execution_count": 7,
      "outputs": [
        {
          "output_type": "stream",
          "name": "stdout",
          "text": [
            "0.0\n",
            "0.0\n",
            "0.03333333333333333\n",
            "640.0\n",
            "360.0\n",
            "30.0\n",
            "1196444237.0\n",
            "466.0\n",
            "0.0\n",
            "0.0\n",
            "0.0\n",
            "0.0\n",
            "0.0\n",
            "0.0\n",
            "0.0\n",
            "0.0\n",
            "1.0\n",
            "0.0\n"
          ]
        }
      ]
    },
    {
      "cell_type": "markdown",
      "metadata": {
        "id": "GWWX4woPYt4H"
      },
      "source": [
        "**You can see index 3 and 4 correspond to the video dimensions**"
      ]
    },
    {
      "cell_type": "code",
      "metadata": {
        "id": "ri8XoZCvYt4I"
      },
      "source": [],
      "execution_count": null,
      "outputs": []
    }
  ]
}